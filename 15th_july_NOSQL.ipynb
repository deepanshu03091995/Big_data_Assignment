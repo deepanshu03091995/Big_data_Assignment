{
 "cells": [
  {
   "cell_type": "markdown",
   "id": "7fa3ce53",
   "metadata": {},
   "source": [
    "# 1. NoSQL Databases:\n",
    "   a. Write a Python program that connects to a MongoDB database and inserts a new document into a collection named \"students\". The document should include fields such as \"name\", \"age\", and \"grade\". Print a success message after the insertion.\n",
    "   \n",
    "   b. Implement a Python function that connects to a Cassandra database and inserts a new record into a table named \"products\". The record should contain fields like \"id\", \"name\", and \"price\". Handle any potential errors that may occur during the insertion.\n",
    "\n"
   ]
  },
  {
   "cell_type": "markdown",
   "id": "e9b77c94",
   "metadata": {},
   "source": [
    "**a. Write a Python program that connects to a MongoDB database and inserts a new document into a collection named \"students\". The document should include fields such as \"name\", \"age\", and \"grade\". Print a success message after the insertion.**"
   ]
  },
  {
   "cell_type": "markdown",
   "id": "aba4c0de",
   "metadata": {},
   "source": [
    "        import pymongo\n",
    "\n",
    "        def insert_student(name, age, grade):\n",
    "          client = pymongo.MongoClient()\n",
    "          db = client[\"my_database\"]\n",
    "          collection = db[\"students\"]\n",
    "\n",
    "          document = {\"name\": name, \"age\": age, \"grade\": grade}\n",
    "          collection.insert_one(document)\n",
    "\n",
    "          print(\"Successfully inserted student document.\")\n",
    "\n",
    "        if __name__ == \"__main__\":\n",
    "          insert_student(\"John Doe\", 20, 100)\n"
   ]
  },
  {
   "cell_type": "markdown",
   "id": "317b84d5",
   "metadata": {},
   "source": [
    "**b. Implement a Python function that connects to a Cassandra database and inserts a new record into a table named \"products\". The record should contain fields like \"id\", \"name\", and \"price\". Handle any potential errors that may occur during the insertion.**"
   ]
  },
  {
   "cell_type": "markdown",
   "id": "577b02c6",
   "metadata": {},
   "source": [
    "    import cassandra\n",
    "\n",
    "    def insert_product(id, name, price):\n",
    "      try:\n",
    "        session = cassandra.Session(\"localhost\", \"keyspace1\")\n",
    "        query = \"INSERT INTO products (id, name, price) VALUES (%s, %s, %s)\"\n",
    "        session.execute(query, (id, name, price))\n",
    "        print(\"Successfully inserted product record.\")\n",
    "      except Exception as e:\n",
    "        print(f\"Error inserting product record: {e}\")\n",
    "\n",
    "    if __name__ == \"__main__\":\n",
    "      insert_product(1, \"Product 1\", 100)\n"
   ]
  },
  {
   "cell_type": "markdown",
   "id": "39386b71",
   "metadata": {},
   "source": [
    "# 2. Document-oriented NoSQL Databases:\n",
    "   a. Given a MongoDB collection named \"books\", write a Python function that fetches all the books published in the last year         and prints their titles and authors.\n",
    "   \n",
    "   b. Design a schema for a document-oriented NoSQL database to store customer information for an e-commerce platform. Write a         Python program to insert a new customer document into the database and handle any necessary validations.\n"
   ]
  },
  {
   "cell_type": "markdown",
   "id": "147341ac",
   "metadata": {},
   "source": [
    "**a. Given a MongoDB collection named \"books\", write a Python function that fetches all the books published in the last year         and prints their titles and authors.**"
   ]
  },
  {
   "cell_type": "markdown",
   "id": "0d60911f",
   "metadata": {},
   "source": [
    "    import pymongo\n",
    "\n",
    "    def get_recent_books(collection):\n",
    "      \"\"\"\n",
    "      Fetches all the books published in the last year and prints their titles and authors.\n",
    "\n",
    "      Args:\n",
    "        collection: The MongoDB collection to query.\n",
    "\n",
    "      Returns:\n",
    "        None.\n",
    "      \"\"\"\n",
    "\n",
    "      # Get the current year.\n",
    "      \n",
    "      current_year = 2023\n",
    "\n",
    "      # Query the collection for all books published in the last year.\n",
    "      \n",
    "      query = {\"publication_date\": {\"$gte\": current_year - 1}}\n",
    "      books = collection.find(query)\n",
    "\n",
    "      # Print the titles and authors of the books.\n",
    "      for book in books:\n",
    "        print(f\"Title: {book['title']}\")\n",
    "        print(f\"Author: {book['author']}\")\n",
    "\n",
    "    if __name__ == \"__main__\":\n",
    "      client = pymongo.MongoClient()\n",
    "      db = client[\"my_database\"]\n",
    "      collection = db[\"books\"]\n",
    "\n",
    "      get_recent_books(collection)\n"
   ]
  },
  {
   "cell_type": "markdown",
   "id": "bfc5d75f",
   "metadata": {},
   "source": [
    "**b. Design a schema for a document-oriented NoSQL database to store customer information for an e-commerce platform. Write a Python program to insert a new customer document into the database and handle any necessary validations.**"
   ]
  },
  {
   "cell_type": "markdown",
   "id": "d926c2ce",
   "metadata": {},
   "source": [
    "    {\n",
    "      \"_id\": ObjectId(),\n",
    "      \"first_name\": String,\n",
    "      \"last_name\": String,\n",
    "      \"email\": String,\n",
    "      \"phone_number\": String,\n",
    "      \"address\": String,\n",
    "      \"city\": String,\n",
    "      \"state\": String,\n",
    "      \"zip_code\": String,\n",
    "      \"country\": String,\n",
    "      \"created_at\": Date,\n",
    "      \"updated_at\": Date\n",
    "    }"
   ]
  },
  {
   "cell_type": "markdown",
   "id": "a6a1cea2",
   "metadata": {},
   "source": [
    "    import pymongo\n",
    "\n",
    "    client = pymongo.MongoClient()\n",
    "    db = client.ecommerce\n",
    "    customers = db.customers\n",
    "\n",
    "    def insert_customer(first_name, last_name, email, phone_number, address, city, state, zip_code, country):\n",
    "      \"\"\"Inserts a new customer document into the database.\"\"\"\n",
    "\n",
    "      customer_data = {\n",
    "        \"first_name\": first_name,\n",
    "        \"last_name\": last_name,\n",
    "        \"email\": email,\n",
    "        \"phone_number\": phone_number,\n",
    "        \"address\": address,\n",
    "        \"city\": city,\n",
    "        \"state\": state,\n",
    "        \"zip_code\": zip_code,\n",
    "        \"country\": country,\n",
    "      }\n",
    "\n",
    "      try:\n",
    "        customers.insert_one(customer_data)\n",
    "        print(\"Customer document inserted successfully.\")\n",
    "      except pymongo.errors.ValidationError as e:\n",
    "        print(e)\n",
    "\n",
    "    if __name__ == \"__main__\":\n",
    "      insert_customer(\"John\", \"Doe\", \"john.doe@example.com\", \"123-456-7890\", \"123 Main Street\", \"Anytown\", \"CA\", \"91234\", \"US\")\n"
   ]
  },
  {
   "cell_type": "markdown",
   "id": "775f9cd3",
   "metadata": {},
   "source": [
    "# 3. High Availability and Fault Tolerance:\n",
    "   a. Explain the concept of replica sets in MongoDB. Write a Python program that connects to a MongoDB replica set and retrieves the status of the primary and secondary nodes.\n",
    "   \n",
    "   b. Describe how Cassandra ensures high availability and fault tolerance in a distributed database system. Write a Python program that connects to a Cassandra cluster and fetches the status of the nodes.\n"
   ]
  },
  {
   "cell_type": "markdown",
   "id": "b6bddeec",
   "metadata": {},
   "source": [
    "A replica set consists of multiple MongoDB instances, where one member is elected as the primary and the others act as secondary members. The primary member handles all write operations and replicates the data changes to the secondary members in near real-time. If the primary member becomes unavailable due to hardware failure, network issues, or any other reason, the replica set automatically elects a new primary from the available secondary members, ensuring continuous operation of the database."
   ]
  },
  {
   "cell_type": "markdown",
   "id": "1c629a78",
   "metadata": {},
   "source": [
    "    import pymongo\n",
    "\n",
    "    client = pymongo.MongoClient(\"mongodb://replicaset/\")\n",
    "    db = client.test\n",
    "\n",
    "    primary = db.nodes.find_one({\"role\": \"primary\"})\n",
    "    secondary = db.nodes.find_one({\"role\": \"secondary\"})\n",
    "\n",
    "    print(\"Primary node:\", primary)\n",
    "    print(\"Secondary node:\", secondary)\n"
   ]
  },
  {
   "cell_type": "code",
   "execution_count": null,
   "id": "9a0943cd",
   "metadata": {},
   "outputs": [],
   "source": []
  },
  {
   "cell_type": "markdown",
   "id": "006145c3",
   "metadata": {},
   "source": [
    "**b. Describe how Cassandra ensures high availability and fault tolerance in a distributed database system. Write a Python program that connects to a Cassandra cluster and fetches the status of the nodes.**"
   ]
  },
  {
   "cell_type": "markdown",
   "id": "53f993ea",
   "metadata": {},
   "source": [
    "Cassandra is a distributed database system designed to provide high availability and fault tolerance. It achieves these goals through various mechanisms and architectural features. Here are some key aspects of how Cassandra ensures high availability and fault tolerance:\n",
    "\n",
    "Peer-to-peer architecture: Cassandra follows a peer-to-peer distributed architecture, where all nodes in the cluster are equal and communicate with each other directly. There is no single point of failure or centralized coordinator. Each node can accept read and write requests independently, which enhances fault tolerance.\n",
    "\n",
    "Data replication: Cassandra uses a mechanism called replication to store copies of data on multiple nodes. It supports configurable replication factors, allowing you to define the number of copies to maintain. Data is distributed across the cluster using a partitioning scheme (such as consistent hashing). Replication ensures that even if some nodes fail, the data remains accessible from other replicas.\n",
    "\n",
    "Gossip protocol: Cassandra uses a gossip protocol for communication and discovery among nodes. Gossip disseminates information about the cluster's topology and node status. Nodes periodically exchange lightweight messages to share information about themselves and other nodes they know about. This decentralized protocol allows nodes to discover and communicate with each other efficiently, facilitating fault detection and recovery.\n",
    "\n",
    "Data consistency and tunable consistency levels: Cassandra provides tunable consistency levels for read and write operations. You can configure the desired consistency level per operation, allowing you to balance consistency requirements with availability and performance. Cassandra supports eventual consistency and strong consistency models, giving you flexibility in choosing the appropriate level for your application's needs.\n",
    "\n",
    "Replication across data centers: Cassandra supports multi-data center replication, allowing you to distribute data across geographically diverse locations. This feature enhances fault tolerance by providing redundancy across data centers. In case of failures or network disruptions in one data center, data remains accessible from other data centers, ensuring high availability.\n",
    "\n",
    "Automatic repair and anti-entropy mechanisms: Cassandra employs automatic repair mechanisms to ensure data consistency and prevent data divergence. It uses Merkle trees to detect inconsistencies between replicas and automatically repairs any inconsistencies found during regular maintenance processes. The anti-entropy mechanism compares and synchronizes data between replicas to maintain consistency.\n",
    "\n",
    "Failure detection and recovery: Cassandra monitors the health and status of nodes in the cluster using a failure detection mechanism. If a node becomes unresponsive or fails, other nodes detect its absence and take appropriate actions. Cassandra uses strategies like gossip, heartbeat messages, and timeouts to detect failures. When a failure is detected, Cassandra initiates the process of data replication and re-replication to ensure fault tolerance and data availability.\n",
    "\n",
    "By combining these features and mechanisms, Cassandra achieves high availability and fault tolerance in distributed environments. It ensures that data remains accessible even in the presence of failures, and provides mechanisms to automatically recover and repair data inconsistencies.\n",
    "\n",
    "\n",
    "\n",
    "\n",
    "\n"
   ]
  },
  {
   "cell_type": "markdown",
   "id": "074f450f",
   "metadata": {},
   "source": [
    "    import cassandra\n",
    "\n",
    "    cluster = cassandra.Cluster()\n",
    "    session = cluster.connect()\n",
    "\n",
    "    nodes = session.node_status()\n",
    "\n",
    "    for node in nodes:\n",
    "      print(node)\n"
   ]
  },
  {
   "cell_type": "markdown",
   "id": "d5070da1",
   "metadata": {},
   "source": [
    "# 4. Sharding in MongoDB:\n",
    "   a. Explain the concept of sharding in MongoDB and how it improves performance and scalability. Write a Python program that sets up sharding for a MongoDB cluster and inserts multiple documents into a sharded collection.\n",
    "   \n",
    "   b. Design a sharding strategy for a social media application where user data needs to be distributed across multiple shards. Write a Python program to demonstrate how data is distributed and retrieved from the sharded cluster.\n"
   ]
  },
  {
   "cell_type": "markdown",
   "id": "2dfcb970",
   "metadata": {},
   "source": [
    "**a. Explain the concept of sharding in MongoDB and how it improves performance and scalability. Write a Python program that sets up sharding for a MongoDB cluster and inserts multiple documents into a sharded collection.**"
   ]
  },
  {
   "cell_type": "markdown",
   "id": "78e6648c",
   "metadata": {},
   "source": [
    "Sharding is a technique used in MongoDB to horizontally partition data across multiple machines or nodes called shards. It is a key feature that enables MongoDB to handle large datasets and high write and read loads, providing improved performance and scalability. Here's an explanation of how sharding works and its benefits:\n",
    "\n",
    "Sharding in MongoDB:\n",
    "\n",
    "Data partitioning: MongoDB divides the data into smaller subsets called shards based on a shard key. The shard key is a field or combination of fields chosen to distribute the data across multiple shards. Each shard contains a distinct portion of the data based on the shard key range.\n",
    "\n",
    "Shards and replica sets: Each shard in MongoDB can be implemented as a replica set, where a primary shard handles write operations for its chunk of data, and the other replica set members act as secondary shards for read operations. This combination of sharding and replica sets provides fault tolerance and high availability.\n",
    "\n",
    "Query routing: MongoDB's query router, called the mongos process, acts as an intermediary between client applications and the shard cluster. It receives client requests, determines which shard(s) should process the request based on the shard key, and routes the query to the appropriate shard(s). The mongos process collects the results from the shards and returns them to the client.\n",
    "\n",
    "Benefits of Sharding in MongoDB:\n",
    "\n",
    "Improved performance: Sharding distributes the data and workload across multiple shards, allowing parallel processing of queries. This leads to increased throughput and reduced response times, as multiple shards can handle queries simultaneously. It helps in scaling write and read operations, enabling better performance as the dataset grows.\n",
    "\n",
    "Horizontal scalability: Sharding allows you to add more shards to the cluster as the data and workload increase. By horizontally scaling out the cluster, you can accommodate larger datasets and handle higher traffic volumes. This elasticity makes MongoDB well-suited for applications with rapidly growing data or unpredictable workloads.\n",
    "\n",
    "Load balancing: The mongos process automatically balances the data distribution across shards by moving chunks between them. This ensures that the data is evenly distributed and that the workload is balanced, preventing hotspots and maximizing the utilization of cluster resources.\n",
    "\n",
    "Fault tolerance and high availability: MongoDB's sharding architecture leverages replica sets, which provide fault tolerance and automatic failover. Each shard can have multiple replica set members, ensuring data redundancy and eliminating single points of failure. If a shard or replica set member becomes unavailable, the remaining shards continue to serve requests, maintaining the availability of the database.\n",
    "\n",
    "Isolation of data: Sharding allows you to isolate data on different shards based on the shard key. This can be beneficial for applications that have data segregation requirements, such as multi-tenant architectures or regulatory compliance needs.\n",
    "\n",
    "Sharding is configurable and flexible in MongoDB, allowing you to define shard key strategies and scale the cluster based on your specific requirements. It empowers MongoDB to handle large-scale deployments and deliver high performance and scalability for demanding applications.\n",
    "\n",
    "\n",
    "\n",
    "\n"
   ]
  },
  {
   "cell_type": "markdown",
   "id": "c3142c28",
   "metadata": {},
   "source": [
    "    import pymongo\n",
    "\n",
    "    client = pymongo.MongoClient()\n",
    "    db = client.test\n",
    "\n",
    "    # Create a shard key\n",
    "    shard_key = {\"_id\": 1}\n",
    "\n",
    "    # Shard the collection\n",
    "    db.customers.shardCollection(shard_key)\n",
    "\n",
    "    # Insert some documents\n",
    "    for i in range(100):\n",
    "      document = {\"_id\": i, \"name\": \"John Doe\", \"email\": \"john.doe@example.com\"}\n",
    "      db.customers.insert_one(document)\n"
   ]
  },
  {
   "cell_type": "markdown",
   "id": "4ac29fcd",
   "metadata": {},
   "source": [
    "**b. Design a sharding strategy for a social media application where user data needs to be distributed across multiple shards. Write a Python program to demonstrate how data is distributed and retrieved from the sharded cluster.**"
   ]
  },
  {
   "cell_type": "markdown",
   "id": "782638bd",
   "metadata": {},
   "source": [
    "Designing a sharding strategy for a social media application involves considering the characteristics of the data, expected workload patterns, and scalability requirements. Here's a high-level approach to designing a sharding strategy for distributing user data across multiple shards:\n",
    "\n",
    "Identify a shard key:\n",
    "Choose a shard key that evenly distributes user data across shards while considering query patterns and data access patterns. The shard key should be based on a field that has a high cardinality (many distinct values) and is frequently used in queries. For a social media application, the user ID or username could be a good candidate for the shard key.\n",
    "\n",
    "Determine shard key range:\n",
    "Divide the range of possible values for the shard key into smaller ranges, each representing a shard. For example, if using user IDs as the shard key, you can assign a range of user IDs to each shard. It's important to ensure an even distribution of users across shards to prevent hotspots.\n",
    "\n",
    "Allocate shards:\n",
    "Decide on the number of shards required based on the expected data volume and workload. You can start with a smaller number of shards and add more as the data grows. Consider using replica sets for each shard to provide fault tolerance and high availability.\n",
    "\n",
    "Data distribution:\n",
    "Distribute user data based on the shard key ranges. As users register or their data is created, determine which shard the data should be stored on based on the shard key value. The shard key value will determine the target shard where the user data will be stored.\n",
    "\n",
    "Query routing:\n",
    "Implement a query router, such as the mongos process in MongoDB, to route incoming queries to the appropriate shard based on the shard key. The query router receives user-related queries and identifies the shard(s) responsible for processing those queries based on the shard key value.\n",
    "\n",
    "Scaling:\n",
    "Monitor the data growth and workload patterns. As the data volume increases or the workload becomes more demanding, you can add additional shards to the cluster. This can be done by splitting existing shard key ranges or by introducing new shard key ranges.\n",
    "\n",
    "Data locality and join queries:\n",
    "Consider the data locality aspect while designing the sharding strategy. If there are frequent join queries involving user-related data, try to colocate related data on the same shard to minimize cross-shard queries. This may involve choosing a shard key that groups related data together.\n",
    "\n",
    "Testing and tuning:\n",
    "Simulate various scenarios and workload patterns to validate the effectiveness of the sharding strategy. Monitor the system performance, identify bottlenecks, and make necessary adjustments to the shard key ranges, shard configuration, or hardware resources.\n",
    "\n",
    "Remember that designing an optimal sharding strategy requires a deep understanding of the specific requirements and characteristics of your social media application. It's important to continuously evaluate and refine the sharding strategy as the application evolves and the data grows.\n",
    "\n",
    "\n",
    "\n",
    "\n"
   ]
  },
  {
   "cell_type": "markdown",
   "id": "a1575e3f",
   "metadata": {},
   "source": [
    "    import pymongo\n",
    "\n",
    "    client = pymongo.MongoClient()\n",
    "    db = client.test\n",
    "\n",
    "    # Create a shard key\n",
    "    shard_key = {\"_id\": 1}\n",
    "\n",
    "    # Shard the collection\n",
    "    db.users.shardCollection(shard_key)\n",
    "\n",
    "    # Insert some documents\n",
    "    for i in range(100):\n",
    "      document = {\"_id\": i, \"name\": \"John Doe\", \"email\": \"john.doe@example.com\"}\n",
    "      db.users.insert_one(document)\n",
    "\n",
    "    # Retrieve a document\n",
    "    document = db.users.find_one({\"_id\": 1})\n",
    "    print(document)\n"
   ]
  },
  {
   "cell_type": "markdown",
   "id": "4078bbf7",
   "metadata": {},
   "source": [
    "# 5. Indexing in MongoDB:\n",
    "\n",
    "   a. Describe the concept of indexing in MongoDB and its importance in query optimization. Write a Python program that creates an index on a specific field in a MongoDB collection and executes a query using that index.\n",
    "   \n",
    "   b. Given a MongoDB collection named \"products\", write a Python function that searches for products with a specific keyword in the name or description. Optimize the query by adding appropriate indexes.\n"
   ]
  },
  {
   "cell_type": "markdown",
   "id": "06e32285",
   "metadata": {},
   "source": [
    "**a. Describe the concept of indexing in MongoDB and its importance in query optimization. Write a Python program that creates an index on a specific field in a MongoDB collection and executes a query using that index.**"
   ]
  },
  {
   "cell_type": "markdown",
   "id": "c13001f7",
   "metadata": {},
   "source": [
    "Indexing: Indexing is a way to improve the performance of queries by creating a data structure that allows MongoDB to quickly find documents that match a specific criteria.\n",
    "\n",
    "Importance in query optimization: Indexes are essential for query optimization in MongoDB. Without indexes, MongoDB would have to scan every document in a collection to find the documents that match a query. This can be very time-consuming, especially for large collections.\n",
    "\n",
    "Python program: Here is a Python program that creates an index on a specific field in a MongoDB collection and executes a query using that index:"
   ]
  },
  {
   "cell_type": "markdown",
   "id": "7edb0741",
   "metadata": {},
   "source": [
    "    import pymongo\n",
    "\n",
    "    client = pymongo.MongoClient()\n",
    "    db = client.test\n",
    "\n",
    "    # Create an index on the `name` field\n",
    "    db.customers.create_index(\"name\")\n",
    "\n",
    "    # Execute a query using the index\n",
    "    cursor = db.customers.find({\"name\": \"John Doe\"})\n",
    "\n",
    "    for document in cursor:\n",
    "      print(document)\n"
   ]
  },
  {
   "cell_type": "markdown",
   "id": "b16f3229",
   "metadata": {},
   "source": [
    "**b. Given a MongoDB collection named \"products\", write a Python function that searches for products with a specific keyword in the name or description. Optimize the query by adding appropriate indexes.**"
   ]
  },
  {
   "cell_type": "markdown",
   "id": "4c9c19dc",
   "metadata": {},
   "source": [
    "    import pymongo\n",
    "\n",
    "    def search_products(keyword):\n",
    "      \"\"\"Searches for products with the given keyword in the name or description.\"\"\"\n",
    "\n",
    "      client = pymongo.MongoClient()\n",
    "      db = client.test\n",
    "\n",
    "      # Create indexes on the `name` and `description` fields\n",
    "      db.products.create_index(\"name\")\n",
    "      db.products.create_index(\"description\")\n",
    "\n",
    "      # Execute the query\n",
    "      cursor = db.products.find({\"$or\": [{\"name\": keyword}, {\"description\": keyword}]})\n",
    "\n",
    "      for document in cursor:\n",
    "        print(document)\n",
    "\n",
    "    if __name__ == \"__main__\":\n",
    "      keyword = \"t-shirt\"\n",
    "      search_products(keyword)\n"
   ]
  },
  {
   "cell_type": "code",
   "execution_count": null,
   "id": "b3f8379b",
   "metadata": {},
   "outputs": [],
   "source": []
  }
 ],
 "metadata": {
  "kernelspec": {
   "display_name": "Python 3 (ipykernel)",
   "language": "python",
   "name": "python3"
  },
  "language_info": {
   "codemirror_mode": {
    "name": "ipython",
    "version": 3
   },
   "file_extension": ".py",
   "mimetype": "text/x-python",
   "name": "python",
   "nbconvert_exporter": "python",
   "pygments_lexer": "ipython3",
   "version": "3.8.0"
  }
 },
 "nbformat": 4,
 "nbformat_minor": 5
}
