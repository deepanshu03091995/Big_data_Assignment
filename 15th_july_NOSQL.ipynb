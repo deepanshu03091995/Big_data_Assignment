{
 "cells": [
  {
   "cell_type": "markdown",
   "id": "7fa3ce53",
   "metadata": {},
   "source": [
    "# 1. NoSQL Databases:\n",
    "   a. Write a Python program that connects to a MongoDB database and inserts a new document into a collection named \"students\". The document should include fields such as \"name\", \"age\", and \"grade\". Print a success message after the insertion.\n",
    "   \n",
    "   b. Implement a Python function that connects to a Cassandra database and inserts a new record into a table named \"products\". The record should contain fields like \"id\", \"name\", and \"price\". Handle any potential errors that may occur during the insertion.\n",
    "\n"
   ]
  },
  {
   "cell_type": "markdown",
   "id": "e9b77c94",
   "metadata": {},
   "source": [
    "**a. Write a Python program that connects to a MongoDB database and inserts a new document into a collection named \"students\". The document should include fields such as \"name\", \"age\", and \"grade\". Print a success message after the insertion.**"
   ]
  },
  {
   "cell_type": "markdown",
   "id": "aba4c0de",
   "metadata": {},
   "source": [
    "        import pymongo\n",
    "\n",
    "        def insert_student(name, age, grade):\n",
    "          client = pymongo.MongoClient()\n",
    "          db = client[\"my_database\"]\n",
    "          collection = db[\"students\"]\n",
    "\n",
    "          document = {\"name\": name, \"age\": age, \"grade\": grade}\n",
    "          collection.insert_one(document)\n",
    "\n",
    "          print(\"Successfully inserted student document.\")\n",
    "\n",
    "        if __name__ == \"__main__\":\n",
    "          insert_student(\"John Doe\", 20, 100)\n"
   ]
  },
  {
   "cell_type": "markdown",
   "id": "317b84d5",
   "metadata": {},
   "source": [
    "**b. Implement a Python function that connects to a Cassandra database and inserts a new record into a table named \"products\". The record should contain fields like \"id\", \"name\", and \"price\". Handle any potential errors that may occur during the insertion.**"
   ]
  },
  {
   "cell_type": "markdown",
   "id": "577b02c6",
   "metadata": {},
   "source": [
    "    import cassandra\n",
    "\n",
    "    def insert_product(id, name, price):\n",
    "      try:\n",
    "        session = cassandra.Session(\"localhost\", \"keyspace1\")\n",
    "        query = \"INSERT INTO products (id, name, price) VALUES (%s, %s, %s)\"\n",
    "        session.execute(query, (id, name, price))\n",
    "        print(\"Successfully inserted product record.\")\n",
    "      except Exception as e:\n",
    "        print(f\"Error inserting product record: {e}\")\n",
    "\n",
    "    if __name__ == \"__main__\":\n",
    "      insert_product(1, \"Product 1\", 100)\n"
   ]
  },
  {
   "cell_type": "markdown",
   "id": "39386b71",
   "metadata": {},
   "source": [
    "# 2. Document-oriented NoSQL Databases:\n",
    "   a. Given a MongoDB collection named \"books\", write a Python function that fetches all the books published in the last year         and prints their titles and authors.\n",
    "   \n",
    "   b. Design a schema for a document-oriented NoSQL database to store customer information for an e-commerce platform. Write a         Python program to insert a new customer document into the database and handle any necessary validations.\n"
   ]
  },
  {
   "cell_type": "markdown",
   "id": "147341ac",
   "metadata": {},
   "source": [
    "**a. Given a MongoDB collection named \"books\", write a Python function that fetches all the books published in the last year         and prints their titles and authors.**"
   ]
  },
  {
   "cell_type": "markdown",
   "id": "0d60911f",
   "metadata": {},
   "source": [
    "    import pymongo\n",
    "\n",
    "    def get_recent_books(collection):\n",
    "      \"\"\"\n",
    "      Fetches all the books published in the last year and prints their titles and authors.\n",
    "\n",
    "      Args:\n",
    "        collection: The MongoDB collection to query.\n",
    "\n",
    "      Returns:\n",
    "        None.\n",
    "      \"\"\"\n",
    "\n",
    "      # Get the current year.\n",
    "      \n",
    "      current_year = 2023\n",
    "\n",
    "      # Query the collection for all books published in the last year.\n",
    "      \n",
    "      query = {\"publication_date\": {\"$gte\": current_year - 1}}\n",
    "      books = collection.find(query)\n",
    "\n",
    "      # Print the titles and authors of the books.\n",
    "      for book in books:\n",
    "        print(f\"Title: {book['title']}\")\n",
    "        print(f\"Author: {book['author']}\")\n",
    "\n",
    "    if __name__ == \"__main__\":\n",
    "      client = pymongo.MongoClient()\n",
    "      db = client[\"my_database\"]\n",
    "      collection = db[\"books\"]\n",
    "\n",
    "      get_recent_books(collection)\n"
   ]
  },
  {
   "cell_type": "markdown",
   "id": "bfc5d75f",
   "metadata": {},
   "source": [
    "**b. Design a schema for a document-oriented NoSQL database to store customer information for an e-commerce platform. Write a Python program to insert a new customer document into the database and handle any necessary validations.**"
   ]
  },
  {
   "cell_type": "markdown",
   "id": "d926c2ce",
   "metadata": {},
   "source": [
    "    {\n",
    "      \"_id\": ObjectId(),\n",
    "      \"first_name\": String,\n",
    "      \"last_name\": String,\n",
    "      \"email\": String,\n",
    "      \"phone_number\": String,\n",
    "      \"address\": String,\n",
    "      \"city\": String,\n",
    "      \"state\": String,\n",
    "      \"zip_code\": String,\n",
    "      \"country\": String,\n",
    "      \"created_at\": Date,\n",
    "      \"updated_at\": Date\n",
    "    }"
   ]
  },
  {
   "cell_type": "markdown",
   "id": "a6a1cea2",
   "metadata": {},
   "source": [
    "    import pymongo\n",
    "\n",
    "    client = pymongo.MongoClient()\n",
    "    db = client.ecommerce\n",
    "    customers = db.customers\n",
    "\n",
    "    def insert_customer(first_name, last_name, email, phone_number, address, city, state, zip_code, country):\n",
    "      \"\"\"Inserts a new customer document into the database.\"\"\"\n",
    "\n",
    "      customer_data = {\n",
    "        \"first_name\": first_name,\n",
    "        \"last_name\": last_name,\n",
    "        \"email\": email,\n",
    "        \"phone_number\": phone_number,\n",
    "        \"address\": address,\n",
    "        \"city\": city,\n",
    "        \"state\": state,\n",
    "        \"zip_code\": zip_code,\n",
    "        \"country\": country,\n",
    "      }\n",
    "\n",
    "      try:\n",
    "        customers.insert_one(customer_data)\n",
    "        print(\"Customer document inserted successfully.\")\n",
    "      except pymongo.errors.ValidationError as e:\n",
    "        print(e)\n",
    "\n",
    "    if __name__ == \"__main__\":\n",
    "      insert_customer(\"John\", \"Doe\", \"john.doe@example.com\", \"123-456-7890\", \"123 Main Street\", \"Anytown\", \"CA\", \"91234\", \"US\")\n"
   ]
  },
  {
   "cell_type": "markdown",
   "id": "775f9cd3",
   "metadata": {},
   "source": [
    "# 3. High Availability and Fault Tolerance:\n",
    "   a. Explain the concept of replica sets in MongoDB. Write a Python program that connects to a MongoDB replica set and retrieves the status of the primary and secondary nodes.\n",
    "   \n",
    "   b. Describe how Cassandra ensures high availability and fault tolerance in a distributed database system. Write a Python program that connects to a Cassandra cluster and fetches the status of the nodes.\n"
   ]
  },
  {
   "cell_type": "markdown",
   "id": "1c629a78",
   "metadata": {},
   "source": [
    "    import pymongo\n",
    "\n",
    "    client = pymongo.MongoClient(\"mongodb://replicaset/\")\n",
    "    db = client.test\n",
    "\n",
    "    primary = db.nodes.find_one({\"role\": \"primary\"})\n",
    "    secondary = db.nodes.find_one({\"role\": \"secondary\"})\n",
    "\n",
    "    print(\"Primary node:\", primary)\n",
    "    print(\"Secondary node:\", secondary)\n"
   ]
  },
  {
   "cell_type": "markdown",
   "id": "006145c3",
   "metadata": {},
   "source": [
    "**b. Describe how Cassandra ensures high availability and fault tolerance in a distributed database system. Write a Python program that connects to a Cassandra cluster and fetches the status of the nodes.**"
   ]
  },
  {
   "cell_type": "markdown",
   "id": "074f450f",
   "metadata": {},
   "source": [
    "    import cassandra\n",
    "\n",
    "    cluster = cassandra.Cluster()\n",
    "    session = cluster.connect()\n",
    "\n",
    "    nodes = session.node_status()\n",
    "\n",
    "    for node in nodes:\n",
    "      print(node)\n"
   ]
  },
  {
   "cell_type": "markdown",
   "id": "d5070da1",
   "metadata": {},
   "source": [
    "# 4. Sharding in MongoDB:\n",
    "   a. Explain the concept of sharding in MongoDB and how it improves performance and scalability. Write a Python program that sets up sharding for a MongoDB cluster and inserts multiple documents into a sharded collection.\n",
    "   \n",
    "   b. Design a sharding strategy for a social media application where user data needs to be distributed across multiple shards. Write a Python program to demonstrate how data is distributed and retrieved from the sharded cluster.\n"
   ]
  },
  {
   "cell_type": "markdown",
   "id": "2dfcb970",
   "metadata": {},
   "source": [
    "**a. Explain the concept of sharding in MongoDB and how it improves performance and scalability. Write a Python program that sets up sharding for a MongoDB cluster and inserts multiple documents into a sharded collection.**"
   ]
  },
  {
   "cell_type": "markdown",
   "id": "c3142c28",
   "metadata": {},
   "source": [
    "    import pymongo\n",
    "\n",
    "    client = pymongo.MongoClient()\n",
    "    db = client.test\n",
    "\n",
    "    # Create a shard key\n",
    "    shard_key = {\"_id\": 1}\n",
    "\n",
    "    # Shard the collection\n",
    "    db.customers.shardCollection(shard_key)\n",
    "\n",
    "    # Insert some documents\n",
    "    for i in range(100):\n",
    "      document = {\"_id\": i, \"name\": \"John Doe\", \"email\": \"john.doe@example.com\"}\n",
    "      db.customers.insert_one(document)\n"
   ]
  },
  {
   "cell_type": "markdown",
   "id": "4ac29fcd",
   "metadata": {},
   "source": [
    "**b. Design a sharding strategy for a social media application where user data needs to be distributed across multiple shards. Write a Python program to demonstrate how data is distributed and retrieved from the sharded cluster.**"
   ]
  },
  {
   "cell_type": "markdown",
   "id": "a1575e3f",
   "metadata": {},
   "source": [
    "    import pymongo\n",
    "\n",
    "    client = pymongo.MongoClient()\n",
    "    db = client.test\n",
    "\n",
    "    # Create a shard key\n",
    "    shard_key = {\"_id\": 1}\n",
    "\n",
    "    # Shard the collection\n",
    "    db.users.shardCollection(shard_key)\n",
    "\n",
    "    # Insert some documents\n",
    "    for i in range(100):\n",
    "      document = {\"_id\": i, \"name\": \"John Doe\", \"email\": \"john.doe@example.com\"}\n",
    "      db.users.insert_one(document)\n",
    "\n",
    "    # Retrieve a document\n",
    "    document = db.users.find_one({\"_id\": 1})\n",
    "    print(document)\n"
   ]
  },
  {
   "cell_type": "markdown",
   "id": "4078bbf7",
   "metadata": {},
   "source": [
    "# 5. Indexing in MongoDB:\n",
    "\n",
    "   a. Describe the concept of indexing in MongoDB and its importance in query optimization. Write a Python program that creates an index on a specific field in a MongoDB collection and executes a query using that index.\n",
    "   \n",
    "   b. Given a MongoDB collection named \"products\", write a Python function that searches for products with a specific keyword in the name or description. Optimize the query by adding appropriate indexes.\n"
   ]
  },
  {
   "cell_type": "markdown",
   "id": "06e32285",
   "metadata": {},
   "source": [
    "**a. Describe the concept of indexing in MongoDB and its importance in query optimization. Write a Python program that creates an index on a specific field in a MongoDB collection and executes a query using that index.**"
   ]
  },
  {
   "cell_type": "markdown",
   "id": "c13001f7",
   "metadata": {},
   "source": [
    "Indexing: Indexing is a way to improve the performance of queries by creating a data structure that allows MongoDB to quickly find documents that match a specific criteria.\n",
    "\n",
    "Importance in query optimization: Indexes are essential for query optimization in MongoDB. Without indexes, MongoDB would have to scan every document in a collection to find the documents that match a query. This can be very time-consuming, especially for large collections.\n",
    "\n",
    "Python program: Here is a Python program that creates an index on a specific field in a MongoDB collection and executes a query using that index:"
   ]
  },
  {
   "cell_type": "markdown",
   "id": "7edb0741",
   "metadata": {},
   "source": [
    "    import pymongo\n",
    "\n",
    "    client = pymongo.MongoClient()\n",
    "    db = client.test\n",
    "\n",
    "    # Create an index on the `name` field\n",
    "    db.customers.create_index(\"name\")\n",
    "\n",
    "    # Execute a query using the index\n",
    "    cursor = db.customers.find({\"name\": \"John Doe\"})\n",
    "\n",
    "    for document in cursor:\n",
    "      print(document)\n"
   ]
  },
  {
   "cell_type": "markdown",
   "id": "b16f3229",
   "metadata": {},
   "source": [
    "**b. Given a MongoDB collection named \"products\", write a Python function that searches for products with a specific keyword in the name or description. Optimize the query by adding appropriate indexes.**"
   ]
  },
  {
   "cell_type": "markdown",
   "id": "4c9c19dc",
   "metadata": {},
   "source": [
    "    import pymongo\n",
    "\n",
    "    def search_products(keyword):\n",
    "      \"\"\"Searches for products with the given keyword in the name or description.\"\"\"\n",
    "\n",
    "      client = pymongo.MongoClient()\n",
    "      db = client.test\n",
    "\n",
    "      # Create indexes on the `name` and `description` fields\n",
    "      db.products.create_index(\"name\")\n",
    "      db.products.create_index(\"description\")\n",
    "\n",
    "      # Execute the query\n",
    "      cursor = db.products.find({\"$or\": [{\"name\": keyword}, {\"description\": keyword}]})\n",
    "\n",
    "      for document in cursor:\n",
    "        print(document)\n",
    "\n",
    "    if __name__ == \"__main__\":\n",
    "      keyword = \"t-shirt\"\n",
    "      search_products(keyword)\n"
   ]
  },
  {
   "cell_type": "code",
   "execution_count": null,
   "id": "b3f8379b",
   "metadata": {},
   "outputs": [],
   "source": []
  }
 ],
 "metadata": {
  "kernelspec": {
   "display_name": "Python 3 (ipykernel)",
   "language": "python",
   "name": "python3"
  },
  "language_info": {
   "codemirror_mode": {
    "name": "ipython",
    "version": 3
   },
   "file_extension": ".py",
   "mimetype": "text/x-python",
   "name": "python",
   "nbconvert_exporter": "python",
   "pygments_lexer": "ipython3",
   "version": "3.8.0"
  }
 },
 "nbformat": 4,
 "nbformat_minor": 5
}
