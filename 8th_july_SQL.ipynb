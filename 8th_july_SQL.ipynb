{
 "cells": [
  {
   "cell_type": "markdown",
   "id": "8dc7022a",
   "metadata": {},
   "source": [
    "# 1. Write an SQL query to retrieve the names and email addresses of all employees from a table named \"Employees\".\n"
   ]
  },
  {
   "cell_type": "markdown",
   "id": "93f24ac2",
   "metadata": {},
   "source": [
    "SELECT\n",
    "  name,\n",
    "  email\n",
    "FROM\n",
    "  Employees;\n"
   ]
  },
  {
   "cell_type": "code",
   "execution_count": null,
   "id": "7d32f311",
   "metadata": {},
   "outputs": [],
   "source": []
  },
  {
   "cell_type": "markdown",
   "id": "f37135ca",
   "metadata": {},
   "source": [
    "# 2. Write an SQL query to filter records from a table named \"Customers\" where the \"City\" column is 'New York'.\n"
   ]
  },
  {
   "cell_type": "markdown",
   "id": "c110868e",
   "metadata": {},
   "source": [
    "SELECT\n",
    "  *\n",
    "FROM\n",
    "  Customers\n",
    "WHERE\n",
    "  City = 'New York';\n"
   ]
  },
  {
   "cell_type": "markdown",
   "id": "64c8e3a5",
   "metadata": {},
   "source": [
    "# 3. Write an SQL query to sort records in descending order based on the \"DateOfBirth\" column in a table named \"Users\".\n"
   ]
  },
  {
   "cell_type": "markdown",
   "id": "65c7eab8",
   "metadata": {},
   "source": [
    "SELECT\n",
    "  *\n",
    "FROM\n",
    "  Users\n",
    "ORDER BY\n",
    "  DateOfBirth DESC;\n"
   ]
  },
  {
   "cell_type": "markdown",
   "id": "01f50df1",
   "metadata": {},
   "source": [
    "# 4. Write an SQL query to sort records in ascending order based on the \"RegistrationDate\" column in a table named \"Users\".\n"
   ]
  },
  {
   "cell_type": "markdown",
   "id": "0a0bc817",
   "metadata": {},
   "source": [
    "SELECT\n",
    "  *\n",
    "FROM\n",
    "  Users\n",
    "ORDER BY\n",
    "  RegistrationDate ASC;\n"
   ]
  },
  {
   "cell_type": "markdown",
   "id": "512a98da",
   "metadata": {},
   "source": [
    "# 5. Write an SQL query to find the employee with the highest salary from a table named \"Employees\" and display their name, position, and salary.\n"
   ]
  },
  {
   "cell_type": "markdown",
   "id": "028d4ec3",
   "metadata": {},
   "source": [
    "SELECT\n",
    "  name,\n",
    "  position,\n",
    "  salary\n",
    "FROM\n",
    "  Employees\n",
    "ORDER BY\n",
    "  salary DESC\n",
    "LIMIT\n",
    "  1;\n"
   ]
  },
  {
   "cell_type": "markdown",
   "id": "bd5143af",
   "metadata": {},
   "source": [
    "# 6. Write an SQL query to retrieve records from a table named \"Customers\" where the \"Phone\" column matches the pattern '+1-XXX-XXX-XXXX'.\n"
   ]
  },
  {
   "cell_type": "markdown",
   "id": "5c990438",
   "metadata": {},
   "source": [
    "SELECT\n",
    "  *\n",
    "FROM\n",
    "  Customers\n",
    "WHERE\n",
    "  Phone LIKE '+1-XXX-XXX-XXXX';\n"
   ]
  },
  {
   "cell_type": "markdown",
   "id": "84cfba16",
   "metadata": {},
   "source": [
    "# 7. Write an SQL query to retrieve the top 5 customers with the highest total purchase amount from a table named \"Orders\" and display their names and total purchase amounts.\n"
   ]
  },
  {
   "cell_type": "markdown",
   "id": "8a93e22c",
   "metadata": {},
   "source": [
    "SELECT\n",
    "  customer_name,\n",
    "  SUM(order_amount) AS total_purchase_amount\n",
    "FROM\n",
    "  Orders\n",
    "GROUP BY\n",
    "  customer_name\n",
    "ORDER BY\n",
    "  total_purchase_amount DESC\n",
    "LIMIT\n",
    "  5;\n"
   ]
  },
  {
   "cell_type": "markdown",
   "id": "44513c8c",
   "metadata": {},
   "source": [
    "# 8. Write an SQL query to calculate the percentage of sales for each product category in a table named \"Sales\" and display the category name, total sales amount, and the percentage of total sales.\n"
   ]
  },
  {
   "cell_type": "code",
   "execution_count": null,
   "id": "b10d1244",
   "metadata": {},
   "outputs": [],
   "source": [
    "SELECT\n",
    "  category_name,\n",
    "  SUM(sales_amount) AS total_sales_amount,\n",
    "  (SUM(sales_amount) / SUM(total_sales_amount)) * 100 AS percentage_of_total_sales\n",
    "FROM\n",
    "  Sales\n",
    "GROUP BY\n",
    "  category_name;\n"
   ]
  },
  {
   "cell_type": "markdown",
   "id": "46a40a76",
   "metadata": {},
   "source": [
    "# 9. Write an SQL query to find the customers who have made the highest total purchases across all years from a table named \"Orders\" and display their names, email addresses, and the total purchase amount.\n"
   ]
  },
  {
   "cell_type": "code",
   "execution_count": null,
   "id": "b562071f",
   "metadata": {},
   "outputs": [],
   "source": [
    "SELECT\n",
    "  customer_name,\n",
    "  email,\n",
    "  SUM(order_amount) AS total_purchase_amount\n",
    "FROM\n",
    "  Orders\n",
    "GROUP BY\n",
    "  customer_name,\n",
    "  email\n",
    "ORDER BY\n",
    "  total_purchase_amount DESC\n",
    "LIMIT\n",
    "  5;\n"
   ]
  }
 ],
 "metadata": {
  "kernelspec": {
   "display_name": "Python 3 (ipykernel)",
   "language": "python",
   "name": "python3"
  },
  "language_info": {
   "codemirror_mode": {
    "name": "ipython",
    "version": 3
   },
   "file_extension": ".py",
   "mimetype": "text/x-python",
   "name": "python",
   "nbconvert_exporter": "python",
   "pygments_lexer": "ipython3",
   "version": "3.8.0"
  }
 },
 "nbformat": 4,
 "nbformat_minor": 5
}
